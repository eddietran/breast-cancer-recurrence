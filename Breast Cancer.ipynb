{
 "cells": [
  {
   "cell_type": "code",
   "execution_count": 1,
   "metadata": {
    "scrolled": true
   },
   "outputs": [
    {
     "name": "stderr",
     "output_type": "stream",
     "text": [
      "WARNING:root:Limited tf.compat.v2.summary API due to missing TensorBoard installation.\n",
      "WARNING:root:Limited tf.compat.v2.summary API due to missing TensorBoard installation.\n",
      "WARNING:root:Limited tf.compat.v2.summary API due to missing TensorBoard installation.\n",
      "WARNING:root:Limited tf.summary API due to missing TensorBoard installation.\n"
     ]
    }
   ],
   "source": [
    "import numpy as np\n",
    "from sklearn.model_selection import train_test_split\n",
    "from sklearn.preprocessing import OneHotEncoder\n",
    "import tensorflow as tf\n",
    "from tensorflow import keras"
   ]
  },
  {
   "cell_type": "code",
   "execution_count": 2,
   "metadata": {},
   "outputs": [],
   "source": [
    "# Collect dataset\n",
    "data = np.genfromtxt('https://archive.ics.uci.edu/ml/machine-learning-databases/breast-cancer/breast-cancer.data', delimiter=',', dtype='str', encoding=None)\n",
    "np.random.shuffle(data) # Shuffle dataset"
   ]
  },
  {
   "cell_type": "code",
   "execution_count": 3,
   "metadata": {},
   "outputs": [],
   "source": [
    "# Use one hot encoding on dataset\n",
    "encoder = OneHotEncoder()\n",
    "data = encoder.fit_transform(data).toarray()"
   ]
  },
  {
   "cell_type": "code",
   "execution_count": 4,
   "metadata": {},
   "outputs": [],
   "source": [
    "# Split dataset into X (non-class atrributes) and Y (class attributes)\n",
    "X, Y = data[:,1:], data[:,:1]"
   ]
  },
  {
   "cell_type": "code",
   "execution_count": 5,
   "metadata": {},
   "outputs": [],
   "source": [
    "# Split X, Y into train, test tests (70% train, 30% test)\n",
    "X_train, X_test, Y_train, Y_test = train_test_split(X, Y, test_size=0.3)"
   ]
  },
  {
   "cell_type": "code",
   "execution_count": 6,
   "metadata": {},
   "outputs": [],
   "source": [
    "# Create model\n",
    "model = keras.models.Sequential([\n",
    "    keras.layers.Flatten(input_shape=[44]),\n",
    "    keras.layers.Dense(64, activation='relu'),\n",
    "    keras.layers.Dense(16, activation='relu'),\n",
    "    keras.layers.Dense(1, activation='sigmoid'),\n",
    "])"
   ]
  },
  {
   "cell_type": "code",
   "execution_count": 7,
   "metadata": {},
   "outputs": [],
   "source": [
    "# Compile model\n",
    "model.compile(loss='binary_crossentropy', optimizer='sgd', metrics=['accuracy'])"
   ]
  },
  {
   "cell_type": "code",
   "execution_count": 8,
   "metadata": {
    "scrolled": true
   },
   "outputs": [
    {
     "name": "stdout",
     "output_type": "stream",
     "text": [
      "Epoch 1/30\n",
      "7/7 [==============================] - 0s 6ms/step - loss: 0.6684 - accuracy: 0.6350\n",
      "Epoch 2/30\n",
      "7/7 [==============================] - 0s 2ms/step - loss: 0.6611 - accuracy: 0.6550\n",
      "Epoch 3/30\n",
      "7/7 [==============================] - 0s 4ms/step - loss: 0.6543 - accuracy: 0.6750\n",
      "Epoch 4/30\n",
      "7/7 [==============================] - 0s 4ms/step - loss: 0.6484 - accuracy: 0.6800\n",
      "Epoch 5/30\n",
      "7/7 [==============================] - 0s 3ms/step - loss: 0.6426 - accuracy: 0.6900\n",
      "Epoch 6/30\n",
      "7/7 [==============================] - 0s 3ms/step - loss: 0.6372 - accuracy: 0.6950\n",
      "Epoch 7/30\n",
      "7/7 [==============================] - 0s 7ms/step - loss: 0.6316 - accuracy: 0.6900\n",
      "Epoch 8/30\n",
      "7/7 [==============================] - 0s 15ms/step - loss: 0.6260 - accuracy: 0.7000\n",
      "Epoch 9/30\n",
      "7/7 [==============================] - 0s 8ms/step - loss: 0.6208 - accuracy: 0.7000\n",
      "Epoch 10/30\n",
      "7/7 [==============================] - 0s 7ms/step - loss: 0.6162 - accuracy: 0.7050\n",
      "Epoch 11/30\n",
      "7/7 [==============================] - 0s 6ms/step - loss: 0.6112 - accuracy: 0.7050\n",
      "Epoch 12/30\n",
      "7/7 [==============================] - 0s 7ms/step - loss: 0.6067 - accuracy: 0.7050\n",
      "Epoch 13/30\n",
      "7/7 [==============================] - 0s 5ms/step - loss: 0.6022 - accuracy: 0.7050\n",
      "Epoch 14/30\n",
      "7/7 [==============================] - 0s 5ms/step - loss: 0.5979 - accuracy: 0.7050\n",
      "Epoch 15/30\n",
      "7/7 [==============================] - 0s 11ms/step - loss: 0.5935 - accuracy: 0.7050\n",
      "Epoch 16/30\n",
      "7/7 [==============================] - 0s 5ms/step - loss: 0.5894 - accuracy: 0.7050\n",
      "Epoch 17/30\n",
      "7/7 [==============================] - 0s 6ms/step - loss: 0.5846 - accuracy: 0.7050\n",
      "Epoch 18/30\n",
      "7/7 [==============================] - 0s 5ms/step - loss: 0.5800 - accuracy: 0.7050\n",
      "Epoch 19/30\n",
      "7/7 [==============================] - 0s 7ms/step - loss: 0.5755 - accuracy: 0.7050\n",
      "Epoch 20/30\n",
      "7/7 [==============================] - 0s 16ms/step - loss: 0.5714 - accuracy: 0.7050\n",
      "Epoch 21/30\n",
      "7/7 [==============================] - 0s 4ms/step - loss: 0.5670 - accuracy: 0.7100\n",
      "Epoch 22/30\n",
      "7/7 [==============================] - 0s 4ms/step - loss: 0.5625 - accuracy: 0.7150\n",
      "Epoch 23/30\n",
      "7/7 [==============================] - 0s 6ms/step - loss: 0.5584 - accuracy: 0.7150\n",
      "Epoch 24/30\n",
      "7/7 [==============================] - 0s 5ms/step - loss: 0.5542 - accuracy: 0.7200\n",
      "Epoch 25/30\n",
      "7/7 [==============================] - 0s 11ms/step - loss: 0.5504 - accuracy: 0.7200\n",
      "Epoch 26/30\n",
      "7/7 [==============================] - 0s 4ms/step - loss: 0.5458 - accuracy: 0.7200\n",
      "Epoch 27/30\n",
      "7/7 [==============================] - 0s 7ms/step - loss: 0.5419 - accuracy: 0.7200\n",
      "Epoch 28/30\n",
      "7/7 [==============================] - 0s 3ms/step - loss: 0.5375 - accuracy: 0.7200\n",
      "Epoch 29/30\n",
      "7/7 [==============================] - 0s 6ms/step - loss: 0.5333 - accuracy: 0.7200\n",
      "Epoch 30/30\n",
      "7/7 [==============================] - 0s 6ms/step - loss: 0.5288 - accuracy: 0.7250\n"
     ]
    }
   ],
   "source": [
    "# Train model\n",
    "history = model.fit(X_train, Y_train, epochs=30)"
   ]
  },
  {
   "cell_type": "code",
   "execution_count": 9,
   "metadata": {
    "scrolled": true
   },
   "outputs": [
    {
     "name": "stdout",
     "output_type": "stream",
     "text": [
      "3/3 [==============================] - 0s 12ms/step - loss: 0.5705 - accuracy: 0.7209\n"
     ]
    },
    {
     "data": {
      "text/plain": [
       "[0.5704832077026367, 0.7209302186965942]"
      ]
     },
     "execution_count": 9,
     "metadata": {},
     "output_type": "execute_result"
    }
   ],
   "source": [
    "# Evaluate model\n",
    "model.evaluate(X_test, Y_test)"
   ]
  },
  {
   "cell_type": "code",
   "execution_count": 12,
   "metadata": {},
   "outputs": [
    {
     "data": {
      "text/plain": [
       "array([[0.6 ],\n",
       "       [0.82],\n",
       "       [0.78],\n",
       "       [0.74],\n",
       "       [0.47],\n",
       "       [0.77],\n",
       "       [0.82],\n",
       "       [0.43],\n",
       "       [0.61],\n",
       "       [0.77]], dtype=float32)"
      ]
     },
     "execution_count": 12,
     "metadata": {},
     "output_type": "execute_result"
    }
   ],
   "source": [
    "# Make predictions\n",
    "y_pred = model.predict(X_test[:10])\n",
    "y_pred.round(2)"
   ]
  },
  {
   "cell_type": "code",
   "execution_count": 11,
   "metadata": {},
   "outputs": [
    {
     "data": {
      "text/plain": [
       "0.6973256"
      ]
     },
     "execution_count": 11,
     "metadata": {},
     "output_type": "execute_result"
    }
   ],
   "source": [
    "np.average(y_pred.round(2))"
   ]
  },
  {
   "cell_type": "code",
   "execution_count": null,
   "metadata": {},
   "outputs": [],
   "source": []
  }
 ],
 "metadata": {
  "kernelspec": {
   "display_name": "Python 3 (ipykernel)",
   "language": "python",
   "name": "python3"
  },
  "language_info": {
   "codemirror_mode": {
    "name": "ipython",
    "version": 3
   },
   "file_extension": ".py",
   "mimetype": "text/x-python",
   "name": "python",
   "nbconvert_exporter": "python",
   "pygments_lexer": "ipython3",
   "version": "3.10.4"
  }
 },
 "nbformat": 4,
 "nbformat_minor": 4
}
